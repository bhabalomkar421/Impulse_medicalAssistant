{
 "cells": [
  {
   "cell_type": "code",
   "execution_count": 20,
   "metadata": {},
   "outputs": [],
   "source": [
    "import pandas as pd\n",
    "import numpy as np\n",
    "import csv\n"
   ]
  },
  {
   "cell_type": "code",
   "execution_count": 78,
   "metadata": {},
   "outputs": [],
   "source": [
    "header =  {\"fever\", \"vomiting\", \"headache\",\"sweating\",\"abdominal_pain\",\"diarrhea\",\"bloody_stools\",\"muscle_pain\",\"bleeding\",\"skin_rash\",\"fatigue\",\"nausea\",\"sweat\",\"back_pain\",\"neck_pain\",\"arm_pain\",\"chest_pain\",\"dizziness\",\"low_breath\",\"urine_blood\",\"vision_problem\",\"low_heartbeat\",\"confusion\",\"depression\",\"anxiety\",\"constipation\",\"stiff_neck\",\"yawning\",\"more_urine\",\"thirsty\",\"decreased_appetite\",\"neck_stiff\",\"shoulder_pain\",\"weak\",\"muscle_cramps\",\"muscle_spasm\",\"rash\",\"breath_problems\",\"itching\",\"cold\",\"swelling\",\"hives\",\"wheezing\",\"weight_loss\",\"dry_mouth\",\"stomach_pain\",\"vomiting\",\"bleed\",\"cough\",\"anus_itching\",\"anus_swelling\",\"fecal_leakage\",\"painful_bowel_moments\",\"blood_o_tissue\",\"anal_bleeding\",\"stool_pressure\",\"lump_anus\"}\n",
    "malaria = ['fever','vomiting','headache','sweating','abdominal_pain','diarrhea','bloody_stools','muscle_pain']\n",
    "Dengue=['fever','vomiting','headache','bleeding','skin_rash','fatigue','muscle_pain','nausea']\n",
    "Heart_Attack=['sweat','back_pain','neck_pain','arm_pain','chest_pain','dizziness','fatigue','low_breath']\n",
    "Hypertension=['headache','chest_pain','fatigue','low_breath','urine_blood','vision_problem','low_heartbeat','confusion']\n",
    "Migraine=['depression','anxiety','constipation','stiff_neck','yawning','more_urine','thirsty','decreased_appetite']\n",
    "Cervical_spondylosis=['neck_stiff','neck_pain','headache','shoulder_pain','weak','muscle_cramps','muscle_spasm','arm_pain']\n",
    "Paralysis=['fever','neck_pain','headache','rash','constipation','diarrhea','vision_problem','breath_problems']\n",
    "Drug_Reaction=['fever','itching','cold','rash','low_breath','swelling','hives','wheezing']\n",
    "Alcoholic_hepatitis=['fever','weight_loss','dry_mouth','stomach_pain','fatigue','vomiting','bleed','confusion']\n",
    "Pneumonia=['fever','sweating','vomiting','cough','low_breath','chest_pain','fatigue','nausea']\n",
    "Dimorphic_hemmorhoids(piles)=['anus_itching','anus_swelling','fecal_leakage','painful_bowel_moments','blood_on_tissue','anal_bleeding','stool_pressure','lump_anus']\n",
    "\n",
    "\n",
    "\n",
    "\n",
    "\n"
   ]
  },
  {
   "cell_type": "code",
   "execution_count": 32,
   "metadata": {},
   "outputs": [],
   "source": [
    "with open('Dataset.csv', mode='w') as dataset_file:\n",
    "    dataset_writer = csv.writer(dataset_file, delimiter=',', quotechar='\"', quoting=csv.QUOTE_MINIMAL,lineterminator = '\\n')\n",
    "\n",
    "    dataset_writer.writerow(header)\n",
    "    for i in range(20):\n",
    "        dataset_writer.writerow(np.zeros(5))"
   ]
  },
  {
   "cell_type": "code",
   "execution_count": 69,
   "metadata": {},
   "outputs": [
    {
     "data": {
      "text/html": [
       "<div>\n",
       "<style scoped>\n",
       "    .dataframe tbody tr th:only-of-type {\n",
       "        vertical-align: middle;\n",
       "    }\n",
       "\n",
       "    .dataframe tbody tr th {\n",
       "        vertical-align: top;\n",
       "    }\n",
       "\n",
       "    .dataframe thead th {\n",
       "        text-align: right;\n",
       "    }\n",
       "</style>\n",
       "<table border=\"1\" class=\"dataframe\">\n",
       "  <thead>\n",
       "    <tr style=\"text-align: right;\">\n",
       "      <th></th>\n",
       "      <th>fever</th>\n",
       "      <th>vomiting</th>\n",
       "      <th>dizzeness</th>\n",
       "      <th>sweating</th>\n",
       "      <th>chest_pain</th>\n",
       "    </tr>\n",
       "  </thead>\n",
       "  <tbody>\n",
       "    <tr>\n",
       "      <th>0</th>\n",
       "      <td>1</td>\n",
       "      <td>1</td>\n",
       "      <td>1</td>\n",
       "      <td>1</td>\n",
       "      <td>1</td>\n",
       "    </tr>\n",
       "    <tr>\n",
       "      <th>1</th>\n",
       "      <td>0</td>\n",
       "      <td>0</td>\n",
       "      <td>0</td>\n",
       "      <td>0</td>\n",
       "      <td>0</td>\n",
       "    </tr>\n",
       "    <tr>\n",
       "      <th>2</th>\n",
       "      <td>0</td>\n",
       "      <td>0</td>\n",
       "      <td>0</td>\n",
       "      <td>0</td>\n",
       "      <td>0</td>\n",
       "    </tr>\n",
       "    <tr>\n",
       "      <th>3</th>\n",
       "      <td>0</td>\n",
       "      <td>0</td>\n",
       "      <td>0</td>\n",
       "      <td>0</td>\n",
       "      <td>0</td>\n",
       "    </tr>\n",
       "    <tr>\n",
       "      <th>4</th>\n",
       "      <td>0</td>\n",
       "      <td>0</td>\n",
       "      <td>0</td>\n",
       "      <td>0</td>\n",
       "      <td>0</td>\n",
       "    </tr>\n",
       "    <tr>\n",
       "      <th>5</th>\n",
       "      <td>0</td>\n",
       "      <td>0</td>\n",
       "      <td>0</td>\n",
       "      <td>0</td>\n",
       "      <td>0</td>\n",
       "    </tr>\n",
       "    <tr>\n",
       "      <th>6</th>\n",
       "      <td>0</td>\n",
       "      <td>0</td>\n",
       "      <td>0</td>\n",
       "      <td>0</td>\n",
       "      <td>0</td>\n",
       "    </tr>\n",
       "  </tbody>\n",
       "</table>\n",
       "</div>"
      ],
      "text/plain": [
       "   fever  vomiting  dizzeness  sweating  chest_pain\n",
       "0      1         1          1         1           1\n",
       "1      0         0          0         0           0\n",
       "2      0         0          0         0           0\n",
       "3      0         0          0         0           0\n",
       "4      0         0          0         0           0\n",
       "5      0         0          0         0           0\n",
       "6      0         0          0         0           0"
      ]
     },
     "execution_count": 69,
     "metadata": {},
     "output_type": "execute_result"
    }
   ],
   "source": [
    "df = pd.read_csv(\"Dataset.csv\")\n",
    "df.head(7)"
   ]
  },
  {
   "cell_type": "code",
   "execution_count": 70,
   "metadata": {},
   "outputs": [
    {
     "name": "stdout",
     "output_type": "stream",
     "text": [
      "dizzeness\n",
      "1\n",
      "0\n",
      "0\n",
      "0\n",
      "0\n",
      "0\n",
      "0\n",
      "0\n",
      "0\n",
      "0\n",
      "0\n",
      "0\n",
      "0\n",
      "0\n",
      "0\n",
      "0\n",
      "0\n",
      "0\n",
      "0\n",
      "0\n"
     ]
    }
   ],
   "source": [
    "csv_read = open(\"Dataset.csv\",\"r\")\n",
    "reader = csv.reader(csv_read)\n",
    "\n",
    "for row in reader:\n",
    "    print(row[2])"
   ]
  },
  {
   "cell_type": "code",
   "execution_count": 79,
   "metadata": {},
   "outputs": [
    {
     "name": "stdout",
     "output_type": "stream",
     "text": [
      "vomiting   2\n",
      "dizzeness   3\n"
     ]
    }
   ],
   "source": [
    "col = 0\n",
    "for name in header:\n",
    "    col += 1\n",
    "    for sym in malaria:\n",
    "        if sym == name:\n",
    "            print(sym , \" \", col)\n",
    "            df.iloc[1,col-1] = 3\n",
    "            "
   ]
  },
  {
   "cell_type": "code",
   "execution_count": 67,
   "metadata": {},
   "outputs": [
    {
     "data": {
      "text/plain": [
       "5.0"
      ]
     },
     "execution_count": 67,
     "metadata": {},
     "output_type": "execute_result"
    }
   ],
   "source": []
  },
  {
   "cell_type": "code",
   "execution_count": 80,
   "metadata": {},
   "outputs": [
    {
     "data": {
      "text/html": [
       "<div>\n",
       "<style scoped>\n",
       "    .dataframe tbody tr th:only-of-type {\n",
       "        vertical-align: middle;\n",
       "    }\n",
       "\n",
       "    .dataframe tbody tr th {\n",
       "        vertical-align: top;\n",
       "    }\n",
       "\n",
       "    .dataframe thead th {\n",
       "        text-align: right;\n",
       "    }\n",
       "</style>\n",
       "<table border=\"1\" class=\"dataframe\">\n",
       "  <thead>\n",
       "    <tr style=\"text-align: right;\">\n",
       "      <th></th>\n",
       "      <th>fever</th>\n",
       "      <th>vomiting</th>\n",
       "      <th>dizzeness</th>\n",
       "      <th>sweating</th>\n",
       "      <th>chest_pain</th>\n",
       "    </tr>\n",
       "  </thead>\n",
       "  <tbody>\n",
       "    <tr>\n",
       "      <th>0</th>\n",
       "      <td>1</td>\n",
       "      <td>1</td>\n",
       "      <td>1</td>\n",
       "      <td>1</td>\n",
       "      <td>1</td>\n",
       "    </tr>\n",
       "    <tr>\n",
       "      <th>1</th>\n",
       "      <td>0</td>\n",
       "      <td>3</td>\n",
       "      <td>3</td>\n",
       "      <td>0</td>\n",
       "      <td>0</td>\n",
       "    </tr>\n",
       "    <tr>\n",
       "      <th>2</th>\n",
       "      <td>0</td>\n",
       "      <td>0</td>\n",
       "      <td>0</td>\n",
       "      <td>0</td>\n",
       "      <td>0</td>\n",
       "    </tr>\n",
       "    <tr>\n",
       "      <th>3</th>\n",
       "      <td>0</td>\n",
       "      <td>0</td>\n",
       "      <td>0</td>\n",
       "      <td>0</td>\n",
       "      <td>0</td>\n",
       "    </tr>\n",
       "    <tr>\n",
       "      <th>4</th>\n",
       "      <td>0</td>\n",
       "      <td>0</td>\n",
       "      <td>0</td>\n",
       "      <td>0</td>\n",
       "      <td>0</td>\n",
       "    </tr>\n",
       "  </tbody>\n",
       "</table>\n",
       "</div>"
      ],
      "text/plain": [
       "   fever  vomiting  dizzeness  sweating  chest_pain\n",
       "0      1         1          1         1           1\n",
       "1      0         3          3         0           0\n",
       "2      0         0          0         0           0\n",
       "3      0         0          0         0           0\n",
       "4      0         0          0         0           0"
      ]
     },
     "execution_count": 80,
     "metadata": {},
     "output_type": "execute_result"
    }
   ],
   "source": [
    "df.head()"
   ]
  },
  {
   "cell_type": "code",
   "execution_count": null,
   "metadata": {},
   "outputs": [],
   "source": []
  }
 ],
 "metadata": {
  "kernelspec": {
   "display_name": "Python 3",
   "language": "python",
   "name": "python3"
  },
  "language_info": {
   "codemirror_mode": {
    "name": "ipython",
    "version": 3
   },
   "file_extension": ".py",
   "mimetype": "text/x-python",
   "name": "python",
   "nbconvert_exporter": "python",
   "pygments_lexer": "ipython3",
   "version": "3.6.10"
  }
 },
 "nbformat": 4,
 "nbformat_minor": 4
}
